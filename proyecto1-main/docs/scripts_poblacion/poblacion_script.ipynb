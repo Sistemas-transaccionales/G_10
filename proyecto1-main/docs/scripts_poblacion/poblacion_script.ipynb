{
 "cells": [
  {
   "cell_type": "code",
   "execution_count": 15,
   "metadata": {},
   "outputs": [],
   "source": [
    "import random\n",
    "from faker import Faker\n",
    "from tqdm import tqdm\n",
    "from datetime import time, datetime"
   ]
  },
  {
   "cell_type": "code",
   "execution_count": 2,
   "metadata": {},
   "outputs": [],
   "source": [
    "habitaciones = {}\n",
    "tipos_prices = {1: 350000, 2: 250000, 3: 450000, 4: 200000, 5: 100000}\n",
    "tipos_capacidad = {1: 2, 2: 3, 3: 6, 4: 4, 5: 2}\n",
    "room_ids = []\n",
    "\n",
    "# Function to generate random uppercase letter\n",
    "def random_letter():\n",
    "    return random.choice('ABCDEFGHIJKLMNOPQRSTUVWXYZ')\n",
    "\n",
    "# Function to generate a random 3-digit number\n",
    "def random_number():\n",
    "    return random.randint(100, 999)\n",
    "\n",
    "# Function to generate a random integer between 1 and 5 (inclusive)\n",
    "def random_tipo():\n",
    "    return random.randint(1, 5)\n",
    "\n",
    "# Generating SQL INSERT statements for habitaciones table\n",
    "with open('populate_habitaciones.sql', 'w') as file:\n",
    "    for i in range(1000):  # Generating 500 records\n",
    "        \n",
    "        while True:\n",
    "            room_id = random_letter() + str(random_number())  # Generating id\n",
    "            if room_id not in room_ids:\n",
    "                room_ids.append(room_id)\n",
    "                break\n",
    "            \n",
    "        tipo = random_tipo()  # Generating tipo\n",
    "        habitaciones[room_id] = tipo  # Storing id and tipo in dictionary\n",
    "        insert_statement = f\"('{room_id}', {tipo});\"\n",
    "        insert_statement += \"\\n\"\n",
    "        file.write(\"INSERT INTO habitaciones (id, tipo) VALUES \" + insert_statement)"
   ]
  },
  {
   "cell_type": "code",
   "execution_count": 3,
   "metadata": {},
   "outputs": [
    {
     "name": "stderr",
     "output_type": "stream",
     "text": [
      "100%|██████████| 150000/150000 [07:33<00:00, 330.40it/s]\n"
     ]
    }
   ],
   "source": [
    "usuarios_ids = []\n",
    "\n",
    "fake = Faker()\n",
    "\n",
    "def random_user_type():\n",
    "    return random.choice([111, 222, 333, 444, 555])\n",
    "\n",
    "def random_name():\n",
    "    return fake.name()\n",
    "\n",
    "def random_email():\n",
    "    return fake.email()\n",
    "\n",
    "def random_password():\n",
    "    return fake.lexify(text='????????')\n",
    "\n",
    "def random_num_doc():\n",
    "    return fake.random_number(8)\n",
    "\n",
    "def random_tipo_doc():\n",
    "    return random.choice(['CC', 'PA', 'CE'])\n",
    "\n",
    "user_ids = []\n",
    "\n",
    "with open('populate_usuarios.sql', 'w') as file:\n",
    "    for i in tqdm(range(150000)):  # Generating 150000 records\n",
    "        \n",
    "        while True:\n",
    "            num_doc = random_num_doc()\n",
    "            tipo_doc = random_tipo_doc()\n",
    "            if (num_doc, tipo_doc) not in user_ids:\n",
    "                user_ids.append((num_doc, tipo_doc))\n",
    "                break\n",
    "            \n",
    "        tipo = random_user_type()\n",
    "        nombre = random_name()\n",
    "        email = random_email()\n",
    "        contrasenia = random_password()\n",
    "        insert_statement = f\"({num_doc}, '{tipo_doc}', {tipo}, '{nombre}', '{email}', '{contrasenia}');\"\n",
    "        insert_statement += \"\\n\"\n",
    "        file.write(\"INSERT INTO usuarios (num_doc, tipo_doc, tipo, nombre, email, contrasenia) VALUES \" + insert_statement)"
   ]
  },
  {
   "cell_type": "code",
   "execution_count": 33,
   "metadata": {},
   "outputs": [
    {
     "name": "stderr",
     "output_type": "stream",
     "text": [
      "100%|██████████| 100000/100000 [00:06<00:00, 15944.30it/s]\n"
     ]
    }
   ],
   "source": [
    "def random_id_servicio():\n",
    "    return random.randint(70, 101)\n",
    "\n",
    "def random_usr_id():\n",
    "    return random.choice(user_ids)\n",
    "\n",
    "def random_room_id():\n",
    "    return random.choice(room_ids)\n",
    "\n",
    "def random_date(initial_date='01/01/2010', final_date='11/07/2013'):\n",
    "    #date format dd/mm/yyyy, example: 01/01/2010\n",
    "    return fake.date_between(start_date=datetime.strptime(initial_date, '%d/%m/%Y'), end_date=datetime.strptime(final_date, '%d/%m/%Y')).strftime('%d/%m/%Y')\n",
    "\n",
    "def random_time():\n",
    "    return fake.time(pattern=\"%H:%M\")\n",
    "\n",
    "def random_time_greater_than(t):\n",
    "    \n",
    "    given_hour = int(t.split(':')[0])\n",
    "    given_minute = int(t.split(':')[1])\n",
    "    if given_hour == 23:\n",
    "        random_hour = given_hour\n",
    "        random_minute = random.randint(given_minute, 59)\n",
    "    else:\n",
    "        random_hour = random.randint(given_hour + 1, 23)\n",
    "        random_minute = random.randint(0, 59)\n",
    "    return time(random_hour, random_minute)\n",
    "\n",
    "def random_costo_servicio():\n",
    "    return random.randint(10000, 200000)\n",
    "\n",
    "with open('populate_reservas_servicio.sql', 'w') as file:\n",
    "    for i in tqdm(range(100000)):  # Generating 100000 records\n",
    "        id_habitacion = random_room_id()\n",
    "        id_servicio = random_id_servicio()\n",
    "        id_consumidor, tipo_id_consumidor = random_usr_id()\n",
    "        fecha = random_date()\n",
    "        hora_inicio = random_time()\n",
    "        hora_fin = random_time_greater_than(hora_inicio)\n",
    "        costo = random_costo_servicio()\n",
    "        \n",
    "        insert_statement = f\"('{id_habitacion}', {id_servicio}, {id_consumidor}, '{tipo_id_consumidor}', TO_DATE('{fecha}', 'DD/MM/YYYY'), '{hora_inicio}', '{hora_fin}', {costo});\"\n",
    "        insert_statement += \"\\n\"\n",
    "        file.write(\"INSERT INTO reservas_servicio (id_habitacion, id_servicio, id_consumidor, tipo_id_consumidor, fecha, hora_inicio, hora_fin, costo) VALUES \" + insert_statement)"
   ]
  },
  {
   "cell_type": "code",
   "execution_count": 34,
   "metadata": {},
   "outputs": [
    {
     "name": "stderr",
     "output_type": "stream",
     "text": [
      "100%|██████████| 100000/100000 [00:31<00:00, 3223.44it/s]\n"
     ]
    }
   ],
   "source": [
    "ids_cuentas_estadia = []\n",
    "\n",
    "with open('populate_cuentas_estadia.sql', 'w') as file:\n",
    "    for i in tqdm(range(100000)):  # Generating 100000 records\n",
    "        while True:\n",
    "            id = random.randint(1, 1000000)\n",
    "            if id not in ids_cuentas_estadia:\n",
    "                ids_cuentas_estadia.append(id)\n",
    "                break\n",
    "        \n",
    "        id_habitacion = random_room_id()\n",
    "        monto = random.randint(100000, 2000000)\n",
    "        abierta = random.choice([0, 1])\n",
    "        \n",
    "        insert_statement = f\"({id}, '{id_habitacion}', {monto}, {abierta});\"\n",
    "        insert_statement += \"\\n\"\n",
    "        file.write(\"INSERT INTO cuentas_estadia (id, id_habitacion, monto, abierta) VALUES \" + insert_statement)"
   ]
  },
  {
   "cell_type": "code",
   "execution_count": 35,
   "metadata": {},
   "outputs": [
    {
     "name": "stderr",
     "output_type": "stream",
     "text": [
      "  0%|          | 0/300000 [00:00<?, ?it/s]"
     ]
    },
    {
     "name": "stderr",
     "output_type": "stream",
     "text": [
      "100%|██████████| 300000/300000 [00:29<00:00, 10300.27it/s]\n"
     ]
    }
   ],
   "source": [
    "cuentas_en_reservas = []\n",
    "def days_between_dates(start_date_str, end_date_str):\n",
    "    date_format = \"%d/%m/%Y\"  # Specify the format of the date strings\n",
    "\n",
    "    # Convert the strings to datetime objects\n",
    "    start_date = datetime.strptime(start_date_str, date_format)\n",
    "    end_date = datetime.strptime(end_date_str, date_format)\n",
    "\n",
    "    # Calculate the difference in days\n",
    "    difference = end_date - start_date\n",
    "\n",
    "    # Return the number of days (using .days attribute)\n",
    "    return difference.days\n",
    "\n",
    "with open('populate_reservas_habitacion.sql', 'w') as file:\n",
    "    for i in tqdm(range(300000)):  # Generating 300000 records        \n",
    "        id_habitacion = random_room_id()\n",
    "        num_doc, tipo_doc = random_usr_id()\n",
    "        fecha_entrada = random_date()\n",
    "        fecha_salida = random_date(initial_date=fecha_entrada, final_date='11/07/2023')\n",
    "        plan_consumo = random.choice([12, 34, 56, 78])\n",
    "        num_personas = tipos_capacidad[habitaciones[id_habitacion]]\n",
    "        costo = tipos_prices[habitaciones[id_habitacion]] * days_between_dates(fecha_entrada, fecha_salida)\n",
    "        \n",
    "        id_cuenta = random.choice(ids_cuentas_estadia)\n",
    "                \n",
    "        insert_statement = f\"('{id_habitacion}', {num_doc}, '{tipo_doc}', TO_DATE('{fecha_entrada}', 'DD/MM/YYYY'), TO_DATE('{fecha_salida}', 'DD/MM/YYYY'), {plan_consumo}, {num_personas}, {costo}, {id_cuenta});\"\n",
    "        insert_statement += \"\\n\"\n",
    "        file.write(\"INSERT INTO reservas_habitacion (id_habitacion, num_doc, tipo_doc, fecha_entrada, fecha_salida, plan_consumo, num_personas, costo, id_cuenta) VALUES \" + insert_statement)"
   ]
  },
  {
   "cell_type": "code",
   "execution_count": 40,
   "metadata": {},
   "outputs": [
    {
     "name": "stderr",
     "output_type": "stream",
     "text": [
      "100%|██████████| 100000/100000 [00:34<00:00, 2871.29it/s]\n"
     ]
    }
   ],
   "source": [
    "ids_check_ins = []\n",
    "fechas_check_ins = {}\n",
    "\n",
    "with open('populate_check_ins.sql', 'w') as file:\n",
    "    for i in tqdm(range(100000)):        \n",
    "        \n",
    "        while True:\n",
    "            id = random.randint(1, 1000000)\n",
    "            if id not in ids_check_ins:\n",
    "                ids_check_ins.append(id)\n",
    "                break\n",
    "        id_habitacion = random_room_id()\n",
    "        num_doc, tipo_doc = random_usr_id()\n",
    "        fecha = random_date()\n",
    "        fechas_check_ins[id] = fecha\n",
    "        hora = random_time()\n",
    "                \n",
    "        insert_statement = f\"({id}, '{id_habitacion}', {num_doc}, '{tipo_doc}', TO_DATE('{fecha}', 'DD/MM/YYYY'), '{hora}');\"\n",
    "        insert_statement += \"\\n\"\n",
    "        file.write(\"INSERT INTO check_ins (id, id_habitacion, num_doc, tipo_doc, fecha, hora) VALUES \" + insert_statement)"
   ]
  },
  {
   "cell_type": "code",
   "execution_count": 41,
   "metadata": {},
   "outputs": [
    {
     "name": "stderr",
     "output_type": "stream",
     "text": [
      "100%|██████████| 99999/99999 [00:27<00:00, 3675.99it/s] \n"
     ]
    }
   ],
   "source": [
    "with open('populate_check_outs.sql', 'w') as file:\n",
    "    for i in tqdm(range(100000-1)):        \n",
    "        \n",
    "        id_check_in = random.choice(ids_check_ins)\n",
    "        ids_check_ins.remove(id_check_in)\n",
    "        \n",
    "        fecha = random_date(initial_date=fechas_check_ins[id_check_in], final_date='11/07/2023')\n",
    "        hora = random_time()\n",
    "        ingresos_totales = random.randint(100000, 2000000)\n",
    "                \n",
    "        insert_statement = f\"({id_check_in}, 'TO_DATE('{fecha}', 'DD/MM/YYYY'), '{hora}', {ingresos_totales});\"\n",
    "        insert_statement += \"\\n\"\n",
    "        file.write(\"INSERT INTO check_outs (id_check_in, fecha, hora, ingresos_totales) VALUES \" + insert_statement)"
   ]
  }
 ],
 "metadata": {
  "kernelspec": {
   "display_name": "base",
   "language": "python",
   "name": "python3"
  },
  "language_info": {
   "codemirror_mode": {
    "name": "ipython",
    "version": 3
   },
   "file_extension": ".py",
   "mimetype": "text/x-python",
   "name": "python",
   "nbconvert_exporter": "python",
   "pygments_lexer": "ipython3",
   "version": "3.11.1"
  }
 },
 "nbformat": 4,
 "nbformat_minor": 2
}
